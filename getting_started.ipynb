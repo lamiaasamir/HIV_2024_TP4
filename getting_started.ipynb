{
 "cells": [
  {
   "cell_type": "markdown",
   "metadata": {},
   "source": [
    "## LAB 4 notbook\n",
    "## LLM testing"
   ]
  },
  {
   "cell_type": "code",
   "execution_count": 8,
   "metadata": {},
   "outputs": [],
   "source": [
    "from poly_llm.to_test.file_name_check import file_name_check\n",
    "from poly_llm.common.abstract_executor import AbstractExecutor\n",
    "from poly_llm.common.prompt_generator import PromptGenerator\n",
    "from poly_llm.generators.llm_test_generator import LLMTestGenerator\n",
    "from transformers import AutoTokenizer, T5ForConditionalGeneration\n",
    "import json\n",
    "import torch\n",
    "import importlib"
   ]
  },
  {
   "cell_type": "markdown",
   "metadata": {},
   "source": [
    "### Measuring the code coverage"
   ]
  },
  {
   "cell_type": "code",
   "execution_count": 2,
   "metadata": {},
   "outputs": [
    {
     "name": "stdout",
     "output_type": "stream",
     "text": [
      "Program module: file_name_check\n",
      "Lines: ['def file_name_check(file_name):\\n', '    \"\"\"Create a function which takes a string representing a file\\'s name, and returns\\n', \"    'Yes' if the the file's name is valid, and returns 'No' otherwise.\\n\", \"    A file's name is considered to be valid if and only if all the following conditions \\n\", '    are met:\\n', \"    - There should not be more than three digits ('0'-'9') in the file's name.\\n\", \"    - The file's name contains exactly one dot '.'\\n\", '    - The substring before the dot should not be empty, and it starts with a letter from \\n', \"    the latin alphapet ('a'-'z' and 'A'-'Z').\\n\", \"    - The substring after the dot should be one of these: ['txt', 'exe', 'dll']\\n\", '    Examples:\\n', '    file_name_check(\"example.txt\") # => \\'Yes\\'\\n', '    file_name_check(\"1example.dll\") # => \\'No\\' (the name should start with a latin alphapet letter)\\n', '    \"\"\"\\n', \"    suf = ['txt', 'exe', 'dll']\\n\", \"    lst = file_name.split(sep='.')\\n\", '    if len(lst) != 2:\\n', \"        return 'No'\\n\", '    if not lst[1] in suf:\\n', \"        return 'No'\\n\", '    if len(lst[0]) == 0:\\n', \"        return 'No'\\n\", '    if not lst[0][0].isalpha():\\n', \"        return 'No'\\n\", '    t = len([x for x in lst[0] if x.isdigit()])\\n', '    if t > 3:\\n', \"        return 'No'\\n\", \"    return 'Yes'\\n\"]\n",
      "{'input': 'example.txt', 'exceptions': 0, 'execution_time': 0.0, 'coverage': {'covered_lines': 9, 'num_statements': 15, 'percent_covered': 59.25925925925926, 'percent_covered_display': '59', 'missing_lines': 6, 'excluded_lines': 5, 'num_branches': 12, 'num_partial_branches': 5, 'covered_branches': 7, 'missing_branches': 5}}\n",
      "{'input': '1example.dll', 'exceptions': 0, 'execution_time': 0.0, 'coverage': {'covered_lines': 7, 'num_statements': 15, 'percent_covered': 40.74074074074074, 'percent_covered_display': '41', 'missing_lines': 8, 'excluded_lines': 5, 'num_branches': 12, 'num_partial_branches': 4, 'covered_branches': 4, 'missing_branches': 8}}\n",
      "{'input': 's1sdf3.asd', 'exceptions': 0, 'execution_time': 0.0, 'coverage': {'covered_lines': 5, 'num_statements': 15, 'percent_covered': 25.925925925925927, 'percent_covered_display': '26', 'missing_lines': 10, 'excluded_lines': 5, 'num_branches': 12, 'num_partial_branches': 2, 'covered_branches': 2, 'missing_branches': 10}}\n",
      "{'input': 'K.dll', 'exceptions': 0, 'execution_time': 0.0, 'coverage': {'covered_lines': 9, 'num_statements': 15, 'percent_covered': 59.25925925925926, 'percent_covered_display': '59', 'missing_lines': 6, 'excluded_lines': 5, 'num_branches': 12, 'num_partial_branches': 5, 'covered_branches': 7, 'missing_branches': 5}}\n",
      "{'input': 'MY16FILE3.exe', 'exceptions': 0, 'execution_time': 0.0, 'coverage': {'covered_lines': 9, 'num_statements': 15, 'percent_covered': 59.25925925925926, 'percent_covered_display': '59', 'missing_lines': 6, 'excluded_lines': 5, 'num_branches': 12, 'num_partial_branches': 5, 'covered_branches': 7, 'missing_branches': 5}}\n",
      "{'input': 'His12FILE94.exe', 'exceptions': 0, 'execution_time': 0.0, 'coverage': {'covered_lines': 9, 'num_statements': 15, 'percent_covered': 59.25925925925926, 'percent_covered_display': '59', 'missing_lines': 6, 'excluded_lines': 5, 'num_branches': 12, 'num_partial_branches': 5, 'covered_branches': 7, 'missing_branches': 5}}\n",
      "{'input': '_Y.txt', 'exceptions': 0, 'execution_time': 0.0, 'coverage': {'covered_lines': 7, 'num_statements': 15, 'percent_covered': 40.74074074074074, 'percent_covered_display': '41', 'missing_lines': 8, 'excluded_lines': 5, 'num_branches': 12, 'num_partial_branches': 4, 'covered_branches': 4, 'missing_branches': 8}}\n",
      "{'input': '?aREYA.exe', 'exceptions': 0, 'execution_time': 0.0, 'coverage': {'covered_lines': 7, 'num_statements': 15, 'percent_covered': 40.74074074074074, 'percent_covered_display': '41', 'missing_lines': 8, 'excluded_lines': 5, 'num_branches': 12, 'num_partial_branches': 4, 'covered_branches': 4, 'missing_branches': 8}}\n",
      "{'input': '/this_is_valid.dll', 'exceptions': 0, 'execution_time': 0.0, 'coverage': {'covered_lines': 7, 'num_statements': 15, 'percent_covered': 40.74074074074074, 'percent_covered_display': '41', 'missing_lines': 8, 'excluded_lines': 5, 'num_branches': 12, 'num_partial_branches': 4, 'covered_branches': 4, 'missing_branches': 8}}\n",
      "{'input': 'this_is_valid.wow', 'exceptions': 0, 'execution_time': 0.0, 'coverage': {'covered_lines': 5, 'num_statements': 15, 'percent_covered': 25.925925925925927, 'percent_covered_display': '26', 'missing_lines': 10, 'excluded_lines': 5, 'num_branches': 12, 'num_partial_branches': 2, 'covered_branches': 2, 'missing_branches': 10}}\n"
     ]
    }
   ],
   "source": [
    "executor = AbstractExecutor(file_name_check)\n",
    "\n",
    "inputs = [\n",
    "    \"example.txt\",\n",
    "    \"1example.dll\",\n",
    "    's1sdf3.asd',\n",
    "    'K.dll',\n",
    "    'MY16FILE3.exe',\n",
    "    'His12FILE94.exe',\n",
    "    '_Y.txt',\n",
    "    '?aREYA.exe',\n",
    "    '/this_is_valid.dll',\n",
    "    'this_is_valid.wow',\n",
    "]\n",
    "\n",
    "# Execute the inputs and print the results\n",
    "for input in inputs:\n",
    "    #exceptions, execution_time, coverage = executor._execute_input(input)\n",
    "    coverage_date = executor._execute_input(input)\n",
    "    print(coverage_date)"
   ]
  },
  {
   "cell_type": "markdown",
   "metadata": {},
   "source": [
    "### Running the promt with the LLM"
   ]
  },
  {
   "cell_type": "code",
   "execution_count": 4,
   "metadata": {},
   "outputs": [
    {
     "name": "stdout",
     "output_type": "stream",
     "text": [
      "Program module: file_name_check\n",
      "Lines: ['def file_name_check(file_name):\\n', '    \"\"\"Create a function which takes a string representing a file\\'s name, and returns\\n', \"    'Yes' if the the file's name is valid, and returns 'No' otherwise.\\n\", \"    A file's name is considered to be valid if and only if all the following conditions \\n\", '    are met:\\n', \"    - There should not be more than three digits ('0'-'9') in the file's name.\\n\", \"    - The file's name contains exactly one dot '.'\\n\", '    - The substring before the dot should not be empty, and it starts with a letter from \\n', \"    the latin alphapet ('a'-'z' and 'A'-'Z').\\n\", \"    - The substring after the dot should be one of these: ['txt', 'exe', 'dll']\\n\", '    Examples:\\n', '    file_name_check(\"example.txt\") # => \\'Yes\\'\\n', '    file_name_check(\"1example.dll\") # => \\'No\\' (the name should start with a latin alphapet letter)\\n', '    \"\"\"\\n', \"    suf = ['txt', 'exe', 'dll']\\n\", \"    lst = file_name.split(sep='.')\\n\", '    if len(lst) != 2:\\n', \"        return 'No'\\n\", '    if not lst[1] in suf:\\n', \"        return 'No'\\n\", '    if len(lst[0]) == 0:\\n', \"        return 'No'\\n\", '    if not lst[0][0].isalpha():\\n', \"        return 'No'\\n\", '    t = len([x for x in lst[0] if x.isdigit()])\\n', '    if t > 3:\\n', \"        return 'No'\\n\", \"    return 'Yes'\\n\"]\n",
      "THE PROMPT Generate tests for the function file_name_check \n",
      " Code \n",
      "def file_name_check(file_name):\n",
      "    \n",
      "    suf = ['txt', 'exe', 'dll']\n",
      "    lst = file_name.split(sep='.')\n",
      "    if len(lst) != 2:\n",
      "        return 'No'\n",
      "    if not lst[1] in suf:\n",
      "        return 'No'\n",
      "    if len(lst[0]) == 0:\n",
      "        return 'No'\n",
      "    if not lst[0][0].isalpha():\n",
      "        return 'No'\n",
      "    t = len([x for x in lst[0] if x.isdigit()])\n",
      "    if t > 3:\n",
      "        return 'No'\n",
      "    return 'Yes'\n",
      "\n",
      "Test \n",
      "def test_file_name_check(): \n",
      " \n",
      "assert file_name_check(\"example.txt\") == 'Yes'\n",
      "\n",
      "assert file_name_check(\"1example.dll\") == 'No' \n",
      "\n",
      "Code \n",
      "def file_name_check(file_name):\n",
      "    \n",
      "    suf = ['txt', 'exe', 'dll']\n",
      "    lst = file_name.split(sep='.')\n",
      "    if len(lst) != 2:\n",
      "        return 'No'\n",
      "    if not lst[1] in suf:\n",
      "        return 'No'\n",
      "    if len(lst[0]) == 0:\n",
      "        return 'No'\n",
      "    if not lst[0][0].isalpha():\n",
      "        return 'No'\n",
      "    t = len([x for x in lst[0] if x.isdigit()])\n",
      "    if t > 3:\n",
      "        return 'No'\n",
      "    return 'Yes'\n",
      "\n",
      "Test \n",
      "def test_file_name_check():\n",
      "\n"
     ]
    }
   ],
   "source": [
    "executor = AbstractExecutor(file_name_check)\n",
    "prompt_generator = PromptGenerator(file_name_check)\n",
    "device = torch.device(\"cuda\" if torch.cuda.is_available() else \"cpu\")\n",
    "model_name = \"Salesforce/codet5-large-ntp-py\"\n",
    "tokenizer = AutoTokenizer.from_pretrained(model_name) #tokenizer#AutoTokenizer.from_pretrained(\"codellama/CodeLlama-7b-Python-hf\")#\n",
    "model = T5ForConditionalGeneration.from_pretrained(model_name).to(device)\n",
    "\n",
    "llm_generator = LLMTestGenerator(model, tokenizer, file_name_check)\n",
    "prompt = prompt_generator.generate_prompt(few_shot_examples=['''def test_file_name_check(): \\n \n",
    "assert file_name_check(\"example.txt\") == 'Yes'\\n\n",
    "assert file_name_check(\"1example.dll\") == 'No' \\n'''])\n",
    "\n",
    "print(f\"THE PROMPT {prompt}\")\n",
    "test, test_name = llm_generator.create_test_function(prompt)\n"
   ]
  },
  {
   "cell_type": "markdown",
   "metadata": {},
   "source": [
    "### Measuring the coverage achived by the LLM produced code"
   ]
  },
  {
   "cell_type": "code",
   "execution_count": 6,
   "metadata": {},
   "outputs": [
    {
     "name": "stdout",
     "output_type": "stream",
     "text": [
      "Test function written to test_generated.py\n",
      "Program module: test_file_name_check\n",
      "Lines: ['def test_file_name_check(file_name_check):\\n', '    assert file_name_check(\"example.txt\") == \\'Yes\\'\\n', '    assert file_name_check(\"1example.dll\") == \\'No\\'\\n', '    assert file_name_check(\"example.txt\") == \\'Yes\\'\\n', '    assert file_name_check(\"1example.dll\") == \\'No\\'\\n', '    assert file_name_check(\"example.txt\") == \\'Yes\\'\\n', '    assert file_name_check(\"1example.dll\") == \\'No\\'\\n']\n",
      "{'input': <function file_name_check at 0x000001EB65AC28B0>, 'exceptions': 0, 'execution_time': 0.0010199546813964844, 'coverage': {'covered_lines': 16, 'num_statements': 22, 'percent_covered': 70.58823529411765, 'percent_covered_display': '71', 'missing_lines': 6, 'excluded_lines': 5, 'num_branches': 12, 'num_partial_branches': 4, 'covered_branches': 8, 'missing_branches': 4}}\n"
     ]
    }
   ],
   "source": [
    "filename = \"test_generated.py\"\n",
    "llm_generator.write_test_to_file(test, filename=filename)\n",
    "\n",
    "module_name = filename.split(\".\")[0]\n",
    "function_name = test_name\n",
    "\n",
    "# Dynamically import the module\n",
    "module = importlib.import_module(module_name)\n",
    "function = getattr(module, function_name)\n",
    "\n",
    "executor2 = AbstractExecutor(function)\n",
    "\n",
    "coverage_data = executor2._execute_input(file_name_check)\n",
    "print(coverage_data)"
   ]
  }
 ],
 "metadata": {
  "kernelspec": {
   "display_name": "Python 3.10.8 64-bit",
   "language": "python",
   "name": "python3"
  },
  "language_info": {
   "codemirror_mode": {
    "name": "ipython",
    "version": 3
   },
   "file_extension": ".py",
   "mimetype": "text/x-python",
   "name": "python",
   "nbconvert_exporter": "python",
   "pygments_lexer": "ipython3",
   "version": "3.10.8"
  },
  "vscode": {
   "interpreter": {
    "hash": "b0fa6594d8f4cbf19f97940f81e996739fb7646882a419484c72d19e05852a7e"
   }
  }
 },
 "nbformat": 4,
 "nbformat_minor": 2
}
